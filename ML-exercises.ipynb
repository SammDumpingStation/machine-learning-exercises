{
 "cells": [
  {
   "cell_type": "markdown",
   "metadata": {},
   "source": [
    "# Machine Learning Pipeline"
   ]
  },
  {
   "cell_type": "markdown",
   "metadata": {},
   "source": [
    "### A. Load the dataset"
   ]
  },
  {
   "cell_type": "code",
   "execution_count": null,
   "metadata": {},
   "outputs": [],
   "source": [
    "import pandas as pd\n",
    "import numpy as np\n",
    "import matplotlib.pyplot as plt\n",
    "import seaborn as sns\n",
    "from sklearn.model_selection import train_test_split\n",
    "from sklearn.preprocessing import LabelEncoder, StandardScaler\n",
    "from sklearn.tree import DecisionTreeClassifier\n",
    "from sklearn.naive_bayes import GaussianNB\n",
    "from sklearn.neighbors import KNeighborsClassifier\n",
    "from sklearn.metrics import accuracy_score, classification_report, confusion_matrix\n",
    "\n",
    "df = pd.read_csv('./diabetes_dataset_with_notes.csv')\n",
    "df.head()"
   ]
  },
  {
   "cell_type": "markdown",
   "metadata": {},
   "source": [
    "### B. Perform Data Pre-processing\n",
    "\n",
    "#### i. Perform Basic Data Exploration such as (10pts)"
   ]
  },
  {
   "cell_type": "code",
   "execution_count": null,
   "metadata": {},
   "outputs": [],
   "source": [
    "# 1. View the first few rows\n",
    "df.head()"
   ]
  },
  {
   "cell_type": "code",
   "execution_count": null,
   "metadata": {},
   "outputs": [],
   "source": [
    "# 2. Check for missing values\n",
    "df.isna().sum()"
   ]
  },
  {
   "cell_type": "code",
   "execution_count": null,
   "metadata": {},
   "outputs": [],
   "source": [
    "# 3. Summary statistics of numerical features\n",
    "df.describe()"
   ]
  },
  {
   "cell_type": "code",
   "execution_count": null,
   "metadata": {},
   "outputs": [],
   "source": [
    "# 4. Check Data Types\n",
    "df.dtypes"
   ]
  },
  {
   "cell_type": "code",
   "execution_count": null,
   "metadata": {},
   "outputs": [],
   "source": [
    "# Count of diabetic and non-diabetic cases\n",
    "df['diabetes'].value_counts()"
   ]
  },
  {
   "cell_type": "markdown",
   "metadata": {},
   "source": [
    "#### ii. The dataset contains categorical attributes, encode them using Label Encoding (5 pts)"
   ]
  },
  {
   "cell_type": "code",
   "execution_count": null,
   "metadata": {},
   "outputs": [],
   "source": [
    "# Store the categorical columns in an array\n",
    "categorical_cols = ['location' ,'gender','smoking_history']\n",
    "# Copy the original data (df) to not mess/change it up\n",
    "df_encoded = df.copy()\n",
    "# Dictionary to store encoders\n",
    "label_encoders = {}\n",
    "\n",
    "# This will encode the categorical data into (0,1) and will be placed into  a new column (name_encoded) to not mess up the original ones and we can have a reference\n",
    "for col in categorical_cols:\n",
    "  le = LabelEncoder()\n",
    "  df_encoded[f'{col}_encoded'] = le.fit_transform(df_encoded[col])\n",
    "  label_encoders[col] = le\n",
    "\n",
    "df_encoded.head()\n",
    "# data['location'].unique()"
   ]
  },
  {
   "cell_type": "markdown",
   "metadata": {},
   "source": [
    "#### iii. Perform data visualization (15 pts)\n",
    "\n",
    "##### 1. Plot the Class Distribution"
   ]
  },
  {
   "cell_type": "code",
   "execution_count": null,
   "metadata": {},
   "outputs": [],
   "source": [
    "non_diabetic_count = df_encoded['diabetes'].value_counts().get(0,0)\n",
    "diabetic_count = df_encoded['diabetes'].value_counts().get(1,0)\n",
    "\n",
    "# Creating the diabetes distribution plot using Seaborn's countplot\n",
    "plt.figure(figsize=(10, 6))  # Setting the (width, height) of the graph\n",
    "\n",
    "# We are now using the encoded version of the dataset (refer above)\n",
    "sns.countplot(x='diabetes', data=df_encoded, palette='Set2', hue=\"gender_encoded\")  # Plot with Seaborn (x is the attribute, df_encoded is the df_encoded from pandas, palette is the color scheme hue os the second variable)\n",
    "\n",
    "# Some added customization with Matplotlib\n",
    "plt.title('Class Distribution of Diabetes based on Gender', fontsize=14) # The title of the graph\n",
    "plt.xlabel('Diabetes Status (Left = No, Right = Yes)', fontsize=14) # The bottom label (x-axis/horizontal)\n",
    "plt.ylabel('Count', fontsize=14) # The left side label (y-axis/vertical)\n",
    "plt.xticks(ticks=[0,1], labels=[f'Non-Diabetic Total: {non_diabetic_count}', f'Diabetic total: {diabetic_count}'], fontsize=12) #\n",
    "\n",
    "plt.legend(title='Gender', labels=['Female', 'Male', 'Other'], fontsize=12, title_fontsize=14) # Some Customization of the legend part\n",
    "\n",
    "plt.show()"
   ]
  },
  {
   "cell_type": "markdown",
   "metadata": {},
   "source": [
    "##### 2. Visualize Feature Correlations"
   ]
  },
  {
   "cell_type": "code",
   "execution_count": null,
   "metadata": {},
   "outputs": [],
   "source": [
    "#  Get all the numerical values and store it in an array (I will use the encoded version for this)\n",
    "numerical_cols = ['year', 'age', 'race:AfricanAmerican', 'race:Asian', 'race:Caucasian', \n",
    "                  'race:Hispanic', 'race:Other', 'hypertension', 'heart_disease', 'bmi', \n",
    "                  'hbA1c_level', 'blood_glucose_level', 'diabetes', 'location_encoded', \n",
    "                  'gender_encoded', 'smoking_history_encoded']\n",
    "\n",
    "numerical_df = df_encoded[numerical_cols]\n",
    "\n",
    "corr_matrix = numerical_df.corr()\n",
    "\n",
    "plt.figure(figsize=(14, 12))\n",
    "sns.heatmap(corr_matrix, annot=True, cmap=\"coolwarm\", vmin=-1, vmax=1, center=0, \n",
    "            fmt='.2f', linewidths=0.5, square=True)\n",
    "\n",
    "plt.title('Feature Correlation Heatmap', fontsize=16, pad=20)\n",
    "plt.xticks(rotation=45, ha='right', fontsize=12)  # Rotate x labels for readability\n",
    "plt.yticks(fontsize=12)\n",
    "\n",
    "# Step 5: Display the plot\n",
    "plt.tight_layout()  # Adjust layout to prevent clipping\n",
    "plt.show()"
   ]
  },
  {
   "cell_type": "markdown",
   "metadata": {},
   "source": [
    "##### 3. Boxplot to Check Outliers"
   ]
  },
  {
   "cell_type": "code",
   "execution_count": null,
   "metadata": {},
   "outputs": [],
   "source": [
    "# Step 1: Select continuous numerical columns\n",
    "continuous_cols = ['year', 'age', 'bmi', 'hbA1c_level', 'blood_glucose_level']\n",
    "\n",
    "# Step 2: Set Seaborn style\n",
    "sns.set_style(\"whitegrid\")\n",
    "\n",
    "# Step 3: Create subplots\n",
    "fig, axes = plt.subplots(nrows=1, ncols=5, figsize=(15, 5))  # 1 row, 5 columns\n",
    "\n",
    "# Step 4: Plot each feature in its own subplot\n",
    "for i, col in enumerate(continuous_cols):\n",
    "    sns.boxplot(y=df_encoded[col], ax=axes[i], color='skyblue')\n",
    "    axes[i].set_title(col, fontsize=12)\n",
    "    axes[i].set_ylabel('')  # Remove y-label for simplicity\n",
    "\n",
    "# Step 5: Customize and display\n",
    "plt.suptitle('Boxplots to Check Outliers in Continuous Features', fontsize=16, y=1.05)\n",
    "plt.tight_layout()\n",
    "plt.show()"
   ]
  },
  {
   "cell_type": "markdown",
   "metadata": {},
   "source": [
    "### C. Perform Feature Selection. \n",
    "##### There are 17 attributes in the dataset. Drop those unnecessary columns. And extract 10 attributes only. Make justification why you choose those 10 attributes. (10pts)"
   ]
  },
  {
   "cell_type": "code",
   "execution_count": null,
   "metadata": {},
   "outputs": [],
   "source": [
    "# Assuming 'data' is your DataFrame with 20 columns\n",
    "\n",
    "# Step 1: Define the 10 selected attributes\n",
    "selected_cols = ['age', 'gender_encoded', 'location_encoded', 'hypertension', \n",
    "                 'heart_disease', 'smoking_history_encoded', 'bmi', 'hbA1c_level', \n",
    "                 'blood_glucose_level', 'diabetes']\n",
    "\n",
    "# Step 2: Create a new DataFrame with only the selected columns\n",
    "data_selected = df_encoded[selected_cols]\n",
    "\n",
    "# Step 3: Verify the result\n",
    "print(\"Shape of selected dataset:\", data_selected.shape)\n",
    "print(\"\\nFirst few rows of selected dataset:\")\n",
    "print(data_selected.head())"
   ]
  },
  {
   "cell_type": "markdown",
   "metadata": {},
   "source": [
    "#### Justification Summary\n",
    "##### Clinical Relevance: bmi, hbA1c_level, blood_glucose_level are direct diabetes indicators; hypertension, heart_disease, smoking_history_encoded are risk factors.\n",
    "##### Demographic Insight: age, gender_encoded, location_encoded capture patient context with moderate predictive value.\n",
    "##### Target: diabetes is essential as the outcome.\n",
    "##### Dropped: Race columns are redundant and less impactful; year and clinical_notes lack immediate usability without further processing."
   ]
  }
 ],
 "metadata": {
  "kernelspec": {
   "display_name": "myenv",
   "language": "python",
   "name": "python3"
  },
  "language_info": {
   "codemirror_mode": {
    "name": "ipython",
    "version": 3
   },
   "file_extension": ".py",
   "mimetype": "text/x-python",
   "name": "python",
   "nbconvert_exporter": "python",
   "pygments_lexer": "ipython3",
   "version": "3.12.8"
  }
 },
 "nbformat": 4,
 "nbformat_minor": 2
}
