{
 "cells": [
  {
   "cell_type": "markdown",
   "metadata": {},
   "source": [
    "# Machine Learning Pipeline"
   ]
  },
  {
   "cell_type": "markdown",
   "metadata": {},
   "source": [
    "### A. Load the dataset"
   ]
  },
  {
   "cell_type": "code",
   "execution_count": null,
   "metadata": {},
   "outputs": [],
   "source": [
    "import pandas as pd\n",
    "import numpy as np\n",
    "import matplotlib.pyplot as plt\n",
    "import seaborn as sns\n",
    "from sklearn.model_selection import train_test_split\n",
    "from sklearn.preprocessing import LabelEncoder, StandardScaler\n",
    "from sklearn.tree import DecisionTreeClassifier\n",
    "from sklearn.naive_bayes import GaussianNB\n",
    "from sklearn.neighbors import KNeighborsClassifier\n",
    "from sklearn.metrics import accuracy_score, classification_report, confusion_matrix\n",
    "\n",
    "df = pd.read_csv('./diabetes_dataset_with_notes.csv')\n",
    "df.head()"
   ]
  },
  {
   "cell_type": "markdown",
   "metadata": {},
   "source": [
    "### B. Perform Data Pre-processing\n",
    "\n",
    "#### i. Perform Basic Data Exploration such as (10pts)"
   ]
  },
  {
   "cell_type": "code",
   "execution_count": null,
   "metadata": {},
   "outputs": [],
   "source": [
    "# 1. View the first few rows\n",
    "df.head()"
   ]
  },
  {
   "cell_type": "code",
   "execution_count": null,
   "metadata": {},
   "outputs": [],
   "source": [
    "# 2. Check for missing values\n",
    "df.isna().sum()"
   ]
  },
  {
   "cell_type": "code",
   "execution_count": null,
   "metadata": {},
   "outputs": [],
   "source": [
    "# 3. Summary statistics of numerical features\n",
    "df.describe()"
   ]
  },
  {
   "cell_type": "code",
   "execution_count": null,
   "metadata": {},
   "outputs": [],
   "source": [
    "# 4. Check Data Types\n",
    "df.dtypes"
   ]
  },
  {
   "cell_type": "code",
   "execution_count": null,
   "metadata": {},
   "outputs": [],
   "source": [
    "# Count of diabetic and non-diabetic cases\n",
    "df['diabetes'].value_counts()"
   ]
  },
  {
   "cell_type": "markdown",
   "metadata": {},
   "source": [
    "#### ii. The dataset contains categorical attributes, encode them using Label Encoding (5 pts)"
   ]
  },
  {
   "cell_type": "code",
   "execution_count": null,
   "metadata": {},
   "outputs": [],
   "source": [
    "# Store the categorical columns in an array\n",
    "categorical_cols = ['location' ,'gender','smoking_history']\n",
    "# Copy the original data (df) to not mess/change it up\n",
    "df_encoded = df.copy()\n",
    "# Dictionary to store encoders\n",
    "label_encoders = {}\n",
    "\n",
    "# This will encode the categorical data into (0,1) and will be placed into  a new column (name_encoded) to not mess up the original ones and we can have a reference\n",
    "for col in categorical_cols:\n",
    "  le = LabelEncoder()\n",
    "  df_encoded[f'{col}_encoded'] = le.fit_transform(df_encoded[col])\n",
    "  label_encoders[col] = le\n",
    "\n",
    "df_encoded.head()\n",
    "# data['location'].unique()"
   ]
  },
  {
   "cell_type": "markdown",
   "metadata": {},
   "source": [
    "#### iii. Perform data visualization (15 pts)\n",
    "\n",
    "1. Plot the Class Distribution"
   ]
  },
  {
   "cell_type": "code",
   "execution_count": null,
   "metadata": {},
   "outputs": [],
   "source": [
    "non_diabetic_count = df_encoded['diabetes'].value_counts().get(0,0)\n",
    "diabetic_count = df_encoded['diabetes'].value_counts().get(1,0)\n",
    "\n",
    "# Creating the diabetes distribution plot using Seaborn's countplot\n",
    "plt.figure(figsize=(10, 6))  # Setting the (width, height) of the graph\n",
    "\n",
    "# We are now using the encoded version of the dataset (refer above)\n",
    "sns.countplot(x='diabetes', data=df_encoded, palette='Set2', hue=\"gender_encoded\")  # Plot with Seaborn (x is the attribute, df_encoded is the df_encoded from pandas, palette is the color scheme hue os the second variable)\n",
    "\n",
    "# Some added customization with Matplotlib\n",
    "plt.title('Class Distribution of Diabetes based on Gender', fontsize=14) # The title of the graph\n",
    "plt.xlabel('Diabetes Status (Left = No, Right = Yes)', fontsize=14) # The bottom label (x-axis/horizontal)\n",
    "plt.ylabel('Count', fontsize=14) # The left side label (y-axis/vertical)\n",
    "plt.xticks(ticks=[0,1], labels=[f'Non-Diabetic Total: {non_diabetic_count}', f'Diabetic total: {diabetic_count}'], fontsize=12) #\n",
    "\n",
    "plt.legend(title='Gender', labels=['Female', 'Male', 'Other'], fontsize=12, title_fontsize=14) # Some Customization of the legend part\n",
    "\n",
    "plt.show()"
   ]
  },
  {
   "cell_type": "markdown",
   "metadata": {},
   "source": [
    "2. Visualize Feature Correlations"
   ]
  },
  {
   "cell_type": "code",
   "execution_count": null,
   "metadata": {},
   "outputs": [],
   "source": [
    "#  Get all the numerical values and store it in an array (I will use the encoded version for this)\n",
    "numerical_cols = ['year', 'age', 'race:AfricanAmerican', 'race:Asian', 'race:Caucasian', \n",
    "                  'race:Hispanic', 'race:Other', 'hypertension', 'heart_disease', 'bmi', \n",
    "                  'hbA1c_level', 'blood_glucose_level', 'diabetes', 'location_encoded', \n",
    "                  'gender_encoded', 'smoking_history_encoded']\n",
    "\n",
    "numerical_df = df_encoded[numerical_cols]\n",
    "\n",
    "corr_matrix = numerical_df.corr()\n",
    "\n",
    "plt.figure(figsize=(14, 12))\n",
    "sns.heatmap(corr_matrix, annot=True, cmap=\"coolwarm\", vmin=-1, vmax=1, center=0, \n",
    "            fmt='.2f', linewidths=0.5, square=True)\n",
    "\n",
    "plt.title('Feature Correlation Heatmap', fontsize=16, pad=20)\n",
    "plt.xticks(rotation=45, ha='right', fontsize=12)  # Rotate x labels for readability\n",
    "plt.yticks(fontsize=12)\n",
    "\n",
    "# Step 5: Display the plot\n",
    "plt.tight_layout()  # Adjust layout to prevent clipping\n",
    "plt.show()"
   ]
  },
  {
   "cell_type": "markdown",
   "metadata": {},
   "source": [
    "3. Boxplot to Check Outliers"
   ]
  },
  {
   "cell_type": "code",
   "execution_count": null,
   "metadata": {},
   "outputs": [],
   "source": [
    "# Step 1: Select continuous numerical columns\n",
    "continuous_cols = ['year', 'age', 'bmi', 'hbA1c_level', 'blood_glucose_level']\n",
    "\n",
    "# Step 2: Set Seaborn style\n",
    "sns.set_style(\"whitegrid\")\n",
    "\n",
    "# Step 3: Create subplots\n",
    "fig, axes = plt.subplots(nrows=1, ncols=5, figsize=(15, 5))  # 1 row, 5 columns\n",
    "\n",
    "# Step 4: Plot each feature in its own subplot\n",
    "for i, col in enumerate(continuous_cols):\n",
    "    sns.boxplot(y=df_encoded[col], ax=axes[i], color='skyblue')\n",
    "    axes[i].set_title(col, fontsize=12)\n",
    "    axes[i].set_ylabel('')  # Remove y-label for simplicity\n",
    "\n",
    "# Step 5: Customize and display\n",
    "plt.suptitle('Boxplots to Check Outliers in Continuous Features', fontsize=16, y=1.05)\n",
    "plt.tight_layout()\n",
    "plt.show()"
   ]
  },
  {
   "cell_type": "markdown",
   "metadata": {},
   "source": [
    "### C. Perform Feature Selection. \n",
    "There are 17 attributes in the dataset. Drop those unnecessary columns. And extract 10 attributes only. Make justification why you choose those 10 attributes. (10pts)"
   ]
  },
  {
   "cell_type": "code",
   "execution_count": null,
   "metadata": {},
   "outputs": [],
   "source": [
    "# Step 1: Define the 10 selected attributes\n",
    "selected_cols = ['age', 'gender_encoded', 'location_encoded', 'hypertension', \n",
    "                 'heart_disease', 'smoking_history_encoded', 'bmi', 'hbA1c_level', \n",
    "                 'blood_glucose_level', 'diabetes']\n",
    "\n",
    "# Step 2: Create a new DataFrame with only the selected columns\n",
    "data_selected = df_encoded[selected_cols]\n",
    "\n",
    "# Step 3: Verify the result\n",
    "display(data_selected)\n",
    "## Justification Summary\n",
    "# Clinical Relevance: bmi, hbA1c_level, blood_glucose_level are direct diabetes indicators; hypertension, heart_disease, smoking_history_encoded are risk factors.\n",
    "# Demographic Insight: age, gender_encoded, location_encoded capture patient context with moderate predictive value.\n",
    "# Target: diabetes is essential as the outcome.\n",
    "# Dropped: Race columns are redundant and less impactful; year and clinical_notes lack immediate usability without further processing."
   ]
  },
  {
   "cell_type": "markdown",
   "metadata": {},
   "source": [
    "### D. Do a hold-out method\n",
    "\n",
    "Split the data into training and test dataset. Identify the features and the target , then split into training and testing sets. Read about the ideal ratio of splitting your dataset. (5pts)"
   ]
  },
  {
   "cell_type": "code",
   "execution_count": null,
   "metadata": {},
   "outputs": [],
   "source": [
    "# Step 1: Identify features (X) and target (y)\n",
    "X = data_selected.drop('diabetes', axis=1)  # Features: all columns except 'diabetes'\n",
    "y = data_selected['diabetes']               # Target: 'diabetes'\n",
    "\n",
    "# Step 2: Split the data into training and test sets (80-20 split)\n",
    "X_train, X_test, y_train, y_test = train_test_split(X, y, test_size=0.2, random_state=42)\n",
    "\n",
    "# Step 3: Verify the split\n",
    "print(\"Training set shape (X_train):\", X_train.shape)\n",
    "print(\"Test set shape (X_test):\", X_test.shape)\n",
    "print(\"Training target shape (y_train):\", y_train.shape)\n",
    "print(\"Test target shape (y_test):\", y_test.shape)\n",
    "\n",
    "# (Optional) Peek at the data\n",
    "print(\"\\nFirst few rows of X_train:\")\n",
    "print(X_train.head())\n",
    "print(\"\\nFirst few rows of y_train:\")\n",
    "print(y_train.head())"
   ]
  },
  {
   "cell_type": "markdown",
   "metadata": {},
   "source": [
    "### E. Build the following models"
   ]
  },
  {
   "cell_type": "markdown",
   "metadata": {},
   "source": [
    "1. Decision Tree"
   ]
  },
  {
   "cell_type": "code",
   "execution_count": null,
   "metadata": {},
   "outputs": [],
   "source": [
    "# i. Decision Tree\n",
    "from sklearn.linear_model import LogisticRegression\n",
    "\n",
    "\n",
    "dt_model = DecisionTreeClassifier(random_state=42)\n",
    "\n",
    "# ii. Naïve Bayes (Gaussian, suitable for continuous features)\n",
    "nb_model = GaussianNB()\n",
    "\n",
    "# iii. KNN (K=5 as a starting point)\n",
    "knn_model = KNeighborsClassifier(n_neighbors=5)\n",
    "\n",
    "# iv. Logistic Regression\n",
    "lr_model = LogisticRegression(max_iter=1000, random_state=42)  # Increased max_iter for convergence\n",
    "\n",
    "# Step 2: Train the models\n",
    "dt_model.fit(X_train, y_train)\n",
    "nb_model.fit(X_train, y_train)\n",
    "knn_model.fit(X_train, y_train)\n",
    "lr_model.fit(X_train, y_train)\n",
    "\n",
    "# Step 3: Make predictions on the test set\n",
    "dt_predictions = dt_model.predict(X_test)\n",
    "nb_predictions = nb_model.predict(X_test)\n",
    "knn_predictions = knn_model.predict(X_test)\n",
    "lr_predictions = lr_model.predict(X_test)\n",
    "\n",
    "# Step 4: (Optional) Print a sample of predictions to verify\n",
    "print(\"Sample Predictions (first 5):\")\n",
    "print(\"Decision Tree:\", dt_predictions[:5])\n",
    "print(\"Naïve Bayes:\", nb_predictions[:5])\n",
    "print(\"KNN:\", knn_predictions[:5])\n",
    "print(\"Logistic Regression:\", lr_predictions[:5])"
   ]
  },
  {
   "cell_type": "markdown",
   "metadata": {},
   "source": [
    "### F. Model Evaluation\n",
    "Display the confusion matrix of each model. (20pts)"
   ]
  },
  {
   "cell_type": "code",
   "execution_count": null,
   "metadata": {},
   "outputs": [],
   "source": [
    "# Step 1: Calculate confusion matrices\n",
    "dt_cm = confusion_matrix(y_test, dt_predictions)\n",
    "nb_cm = confusion_matrix(y_test, nb_predictions)\n",
    "knn_cm = confusion_matrix(y_test, knn_predictions)\n",
    "lr_cm = confusion_matrix(y_test, lr_predictions)\n",
    "\n",
    "# Step 2: Set up subplots for all four confusion matrices\n",
    "fig, axes = plt.subplots(2, 2, figsize=(12, 10))  # 2x2 grid\n",
    "model_names = ['Decision Tree', 'Naïve Bayes', 'KNN', 'Logistic Regression']\n",
    "cms = [dt_cm, nb_cm, knn_cm, lr_cm]\n",
    "\n",
    "# Step 3: Plot each confusion matrix\n",
    "for i, (cm, ax, name) in enumerate(zip(cms, axes.flatten(), model_names)):\n",
    "    sns.heatmap(cm, annot=True, fmt='d', cmap='Blues', ax=ax, \n",
    "                xticklabels=['No Diabetes', 'Diabetes'], \n",
    "                yticklabels=['No Diabetes', 'Diabetes'])\n",
    "    ax.set_title(f'Confusion Matrix: {name}', fontsize=14)\n",
    "    ax.set_xlabel('Predicted', fontsize=12)\n",
    "    ax.set_ylabel('Actual', fontsize=12)\n",
    "\n",
    "# Step 4: Adjust layout and display\n",
    "plt.tight_layout()\n",
    "plt.show()"
   ]
  },
  {
   "cell_type": "markdown",
   "metadata": {},
   "source": [
    "### G. And display a comparison in terms of Accuracy, Precision, Recall, F1-score of each model. (20 pts)"
   ]
  },
  {
   "cell_type": "code",
   "execution_count": 20,
   "metadata": {},
   "outputs": [
    {
     "name": "stdout",
     "output_type": "stream",
     "text": [
      "Model Performance Comparison:\n",
      "                 Model  Accuracy  Precision    Recall  F1-score\n",
      "0        Decision Tree   0.95095   0.697268  0.749266  0.722332\n",
      "1          Naïve Bayes   0.90540   0.461031  0.656489  0.541667\n",
      "2                  KNN   0.94700   0.846818  0.460951  0.596958\n",
      "3  Logistic Regression   0.96065   0.876026  0.626541  0.730572\n",
      "\n",
      "Formatted Model Performance Comparison:\n",
      "                 Model  Accuracy  Precision  Recall  F1-score\n",
      "0        Decision Tree     0.951      0.697   0.749     0.722\n",
      "1          Naïve Bayes     0.905      0.461   0.656     0.542\n",
      "2                  KNN     0.947      0.847   0.461     0.597\n",
      "3  Logistic Regression     0.961      0.876   0.627     0.731\n"
     ]
    },
    {
     "data": {
      "image/png": "[encoded data removed]",
      "text/plain": [
       "<Figure size 1200x600 with 1 Axes>"
      ]
     },
     "metadata": {},
     "output_type": "display_data"
    }
   ],
   "source": [
    "# Step 1: Calculate metrics for each model\n",
    "from sklearn.metrics import f1_score, precision_score, recall_score\n",
    "\n",
    "\n",
    "models = {\n",
    "    'Decision Tree': dt_predictions,\n",
    "    'Naïve Bayes': nb_predictions,\n",
    "    'KNN': knn_predictions,\n",
    "    'Logistic Regression': lr_predictions\n",
    "}\n",
    "\n",
    "metrics = {\n",
    "    'Model': [],\n",
    "    'Accuracy': [],\n",
    "    'Precision': [],\n",
    "    'Recall': [],\n",
    "    'F1-score': []\n",
    "}\n",
    "\n",
    "for model_name, predictions in models.items():\n",
    "    metrics['Model'].append(model_name)\n",
    "    metrics['Accuracy'].append(accuracy_score(y_test, predictions))\n",
    "    metrics['Precision'].append(precision_score(y_test, predictions))\n",
    "    metrics['Recall'].append(recall_score(y_test, predictions))\n",
    "    metrics['F1-score'].append(f1_score(y_test, predictions))\n",
    "\n",
    "# Step 2: Create a DataFrame for comparison\n",
    "metrics_df = pd.DataFrame(metrics)\n",
    "\n",
    "# Step 3: Display the table\n",
    "print(\"Model Performance Comparison:\")\n",
    "print(metrics_df)\n",
    "\n",
    "# (Optional) Format for better readability\n",
    "metrics_df_formatted = metrics_df.round(3)  # Round to 3 decimal places\n",
    "print(\"\\nFormatted Model Performance Comparison:\")\n",
    "print(metrics_df_formatted)\n",
    "\n",
    "# Melt the DataFrame for plotting\n",
    "metrics_melted = metrics_df.melt(id_vars=['Model'], \n",
    "                                value_vars=['Accuracy', 'Precision', 'Recall', 'F1-score'],\n",
    "                                var_name='Metric', value_name='Score')\n",
    "\n",
    "# Create a bar plot\n",
    "plt.figure(figsize=(12, 6))\n",
    "sns.barplot(x='Model', y='Score', hue='Metric', data=metrics_melted, palette='Set2')\n",
    "\n",
    "# Customize the plot\n",
    "plt.title('Model Performance Comparison', fontsize=16)\n",
    "plt.xlabel('Model', fontsize=12)\n",
    "plt.ylabel('Score', fontsize=12)\n",
    "plt.ylim(0, 1)  # Scores range from 0 to 1\n",
    "plt.legend(title='Metric', fontsize=12, title_fontsize=14)\n",
    "plt.xticks(fontsize=12)\n",
    "\n",
    "# Display the plot\n",
    "plt.tight_layout()\n",
    "plt.show()"
   ]
  }
 ],
 "metadata": {
  "kernelspec": {
   "display_name": "myenv",
   "language": "python",
   "name": "python3"
  },
  "language_info": {
   "codemirror_mode": {
    "name": "ipython",
    "version": 3
   },
   "file_extension": ".py",
   "mimetype": "text/x-python",
   "name": "python",
   "nbconvert_exporter": "python",
   "pygments_lexer": "ipython3",
   "version": "3.12.8"
  }
 },
 "nbformat": 4,
 "nbformat_minor": 2
}
